{
 "cells": [
  {
   "cell_type": "markdown",
   "metadata": {},
   "source": [
    "## Summary\n",
    "\n",
    "This project is to create a simple engine to calculate trailing return of a given financial instrument. It is inspired by below Morningstar tool (which is available free of charge to public, however was taken offline from its newly designed website)\n",
    "\n"
   ]
  },
  {
   "cell_type": "code",
   "execution_count": 1,
   "metadata": {},
   "outputs": [
    {
     "data": {
      "text/html": [
       "<img src=\"https://github.com/taovalue/Return-Calc/blob/master/Morningstar-Return-Calc.png?raw=true\"/>"
      ],
      "text/plain": [
       "<IPython.core.display.Image object>"
      ]
     },
     "execution_count": 1,
     "metadata": {},
     "output_type": "execute_result"
    }
   ],
   "source": [
    "from IPython.display import Image\n",
    "from IPython.core.display import HTML \n",
    "\n",
    "# Image(url = \"https://taovalue.files.wordpress.com/2019/08/morningstar-return-calc.png\")\n",
    "Image(url = \"https://github.com/taovalue/Return-Calc/blob/master/Morningstar-Return-Calc.png?raw=true\")"
   ]
  },
  {
   "cell_type": "markdown",
   "metadata": {},
   "source": [
    "The old website is still available from below URL: http://performance.morningstar.com/funds/etf/total-returns.action?t=ACWI"
   ]
  },
  {
   "cell_type": "markdown",
   "metadata": {},
   "source": [
    "## Some structural thoughts\n",
    "\n",
    "### Data Source\n",
    "public daily pricing data (Yahoo Finance, Quandl, etc.), maybe there already are libraries does the data pull. Let's research that first.\n",
    "\n",
    "### Inputs\n",
    "- Ticker (Security identifier)\n",
    "- As-of Date (As-of date for trailing return calculation)\n",
    "- Date Range (time horizon to go back\n",
    "- Frequency (day, month, quarter, year)\n",
    "\n",
    "### Outputs\n",
    "- various return numbers (need to specify further)\n",
    "\n",
    "### GUI\n",
    "- using flask (url: https://www.fullstackpython.com/flask.html)?"
   ]
  },
  {
   "cell_type": "markdown",
   "metadata": {},
   "source": [
    "### Here is a quick example on using Yahoo API to get some prices and calculate a simple return"
   ]
  },
  {
   "cell_type": "code",
   "execution_count": null,
   "metadata": {},
   "outputs": [],
   "source": [
    "from pandas_datareader import data\n",
    "import matplotlib.pyplot as plt\n",
    "import pandas as pd"
   ]
  },
  {
   "cell_type": "code",
   "execution_count": null,
   "metadata": {},
   "outputs": [],
   "source": [
    "# Define the instruments to download. We would like to see Apple, Microsoft and the S&P500 index.\n",
    "ticker = 'ACWI'\n",
    "\n",
    "# We would like all available data from 01/01/2000 until 12/31/2016.\n",
    "start_date = '2019-04-01'\n",
    "end_date = '2019-06-30'\n",
    "\n",
    "# User pandas_reader.data.DataReader to load the desired data.\n",
    "panel_data = data.DataReader(ticker,'yahoo',start_date, end_date)"
   ]
  },
  {
   "cell_type": "code",
   "execution_count": null,
   "metadata": {},
   "outputs": [],
   "source": [
    "Close = panel_data[\"Adj Close\"]"
   ]
  },
  {
   "cell_type": "code",
   "execution_count": null,
   "metadata": {},
   "outputs": [],
   "source": [
    "EndPx = panel_data.loc[max(panel_data.index),\"Adj Close\"]\n",
    "StartPx = panel_data.loc[min(panel_data.index),\"Adj Close\"]\n",
    "\n",
    "Ret = EndPx/StartPx - 1\n"
   ]
  },
  {
   "cell_type": "code",
   "execution_count": null,
   "metadata": {},
   "outputs": [],
   "source": [
    "round(Ret*100,2)"
   ]
  },
  {
   "cell_type": "code",
   "execution_count": null,
   "metadata": {},
   "outputs": [],
   "source": [
    "print(\"Return of \",ticker,\" from \",start_date,\" to \",end_date,\" was \",round(Ret*100,2),\"%.\")"
   ]
  },
  {
   "cell_type": "code",
   "execution_count": null,
   "metadata": {},
   "outputs": [],
   "source": []
  }
 ],
 "metadata": {
  "hide_input": false,
  "kernelspec": {
   "display_name": "Python 3",
   "language": "python",
   "name": "python3"
  },
  "language_info": {
   "codemirror_mode": {
    "name": "ipython",
    "version": 3
   },
   "file_extension": ".py",
   "mimetype": "text/x-python",
   "name": "python",
   "nbconvert_exporter": "python",
   "pygments_lexer": "ipython3",
   "version": "3.6.5"
  }
 },
 "nbformat": 4,
 "nbformat_minor": 2
}
