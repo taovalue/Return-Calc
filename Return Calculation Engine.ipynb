{
 "cells": [
  {
   "cell_type": "markdown",
   "metadata": {},
   "source": [
    "## Summary\n",
    "\n",
    "This project is to create a simple engine to calculate trailing return of a given financial instrument. It is inspired by below Morningstar tool (which is available free of charge to public, however was taken offline from its newly designed website)\n",
    "\n"
   ]
  },
  {
   "cell_type": "code",
   "execution_count": 4,
   "metadata": {},
   "outputs": [
    {
     "data": {
      "text/html": [
       "<img src=\"https://github.com/taovalue/Return-Calc/blob/master/Morningstar-Return-Calc.png?raw=true\"/>"
      ],
      "text/plain": [
       "<IPython.core.display.Image object>"
      ]
     },
     "execution_count": 4,
     "metadata": {},
     "output_type": "execute_result"
    }
   ],
   "source": [
    "from IPython.display import Image\n",
    "from IPython.core.display import HTML \n",
    "\n",
    "# Image(url = \"https://taovalue.files.wordpress.com/2019/08/morningstar-return-calc.png\")\n",
    "Image(url = \"https://github.com/taovalue/Return-Calc/blob/master/Morningstar-Return-Calc.png?raw=true\")"
   ]
  },
  {
   "cell_type": "markdown",
   "metadata": {},
   "source": [
    "The old website is still available from below URL: http://performance.morningstar.com/funds/etf/total-returns.action?t=ACWI"
   ]
  },
  {
   "cell_type": "markdown",
   "metadata": {},
   "source": [
    "## Some structural thoughts\n",
    "\n",
    "### Data Source\n",
    "public daily pricing data (Yahoo Finance, Quandl, etc.), maybe there already are libraries does the data pull. Let's research that first.\n",
    "\n",
    "### Inputs\n",
    "- Ticker (Security identifier)\n",
    "- As-of Date (As-of date for trailing return calculation)\n",
    "- Date Range (time horizon to go back\n",
    "- Frequency (day, month, quarter, year)\n",
    "\n",
    "### Outputs\n",
    "- various return numbers (need to specify further)\n",
    "\n",
    "### GUI\n",
    "- using flask (url: https://www.fullstackpython.com/flask.html)?"
   ]
  },
  {
   "cell_type": "markdown",
   "metadata": {},
   "source": [
    "### Here is a quick example on using Yahoo API to get some prices and calculate a simple return"
   ]
  },
  {
   "cell_type": "code",
   "execution_count": 2,
   "metadata": {},
   "outputs": [],
   "source": [
    "from pandas_datareader import data\n",
    "import matplotlib.pyplot as plt\n",
    "import pandas as pd"
   ]
  },
  {
   "cell_type": "code",
   "execution_count": null,
   "metadata": {},
   "outputs": [],
   "source": []
  },
  {
   "cell_type": "code",
   "execution_count": 13,
   "metadata": {},
   "outputs": [
    {
     "data": {
      "text/html": [
       "<div>\n",
       "<style scoped>\n",
       "    .dataframe tbody tr th:only-of-type {\n",
       "        vertical-align: middle;\n",
       "    }\n",
       "\n",
       "    .dataframe tbody tr th {\n",
       "        vertical-align: top;\n",
       "    }\n",
       "\n",
       "    .dataframe thead th {\n",
       "        text-align: right;\n",
       "    }\n",
       "</style>\n",
       "<table border=\"1\" class=\"dataframe\">\n",
       "  <thead>\n",
       "    <tr style=\"text-align: right;\">\n",
       "      <th></th>\n",
       "      <th>High</th>\n",
       "      <th>Low</th>\n",
       "      <th>Open</th>\n",
       "      <th>Close</th>\n",
       "      <th>Volume</th>\n",
       "      <th>Adj Close</th>\n",
       "    </tr>\n",
       "    <tr>\n",
       "      <th>Date</th>\n",
       "      <th></th>\n",
       "      <th></th>\n",
       "      <th></th>\n",
       "      <th></th>\n",
       "      <th></th>\n",
       "      <th></th>\n",
       "    </tr>\n",
       "  </thead>\n",
       "  <tbody>\n",
       "    <tr>\n",
       "      <th>2019-09-30</th>\n",
       "      <td>24.879999</td>\n",
       "      <td>23.520000</td>\n",
       "      <td>24.860001</td>\n",
       "      <td>23.639999</td>\n",
       "      <td>3191900</td>\n",
       "      <td>23.639999</td>\n",
       "    </tr>\n",
       "    <tr>\n",
       "      <th>2019-10-01</th>\n",
       "      <td>23.980000</td>\n",
       "      <td>23.290001</td>\n",
       "      <td>23.660000</td>\n",
       "      <td>23.440001</td>\n",
       "      <td>1713800</td>\n",
       "      <td>23.440001</td>\n",
       "    </tr>\n",
       "    <tr>\n",
       "      <th>2019-10-02</th>\n",
       "      <td>23.160000</td>\n",
       "      <td>22.250000</td>\n",
       "      <td>23.090000</td>\n",
       "      <td>23.040001</td>\n",
       "      <td>1888500</td>\n",
       "      <td>23.040001</td>\n",
       "    </tr>\n",
       "    <tr>\n",
       "      <th>2019-10-03</th>\n",
       "      <td>23.680000</td>\n",
       "      <td>22.629999</td>\n",
       "      <td>23.059999</td>\n",
       "      <td>23.520000</td>\n",
       "      <td>1868000</td>\n",
       "      <td>23.520000</td>\n",
       "    </tr>\n",
       "    <tr>\n",
       "      <th>2019-10-04</th>\n",
       "      <td>23.610001</td>\n",
       "      <td>22.690001</td>\n",
       "      <td>23.450001</td>\n",
       "      <td>22.730000</td>\n",
       "      <td>2066900</td>\n",
       "      <td>22.730000</td>\n",
       "    </tr>\n",
       "  </tbody>\n",
       "</table>\n",
       "</div>"
      ],
      "text/plain": [
       "                 High        Low       Open      Close   Volume  Adj Close\n",
       "Date                                                                      \n",
       "2019-09-30  24.879999  23.520000  24.860001  23.639999  3191900  23.639999\n",
       "2019-10-01  23.980000  23.290001  23.660000  23.440001  1713800  23.440001\n",
       "2019-10-02  23.160000  22.250000  23.090000  23.040001  1888500  23.040001\n",
       "2019-10-03  23.680000  22.629999  23.059999  23.520000  1868000  23.520000\n",
       "2019-10-04  23.610001  22.690001  23.450001  22.730000  2066900  22.730000"
      ]
     },
     "execution_count": 13,
     "metadata": {},
     "output_type": "execute_result"
    }
   ],
   "source": [
    "# Define the instruments to download. We use ACWI as an example\n",
    "ticker = 'HUYA'\n",
    "\n",
    "# We would like all available data from 4/1/2019 until 6/30/2019.\n",
    "start_date = '2019-09-30'\n",
    "end_date = '2019-12-31'\n",
    "\n",
    "# User pandas_reader.data.DataReader to load the desired data.\n",
    "panel_data = data.DataReader(ticker,'yahoo',start_date, end_date)\n",
    "\n",
    "# Check the first few rows\n",
    "panel_data.head()"
   ]
  },
  {
   "cell_type": "code",
   "execution_count": 14,
   "metadata": {
    "scrolled": true
   },
   "outputs": [
    {
     "data": {
      "text/plain": [
       "Date\n",
       "2019-09-30    23.639999\n",
       "2019-10-01    23.440001\n",
       "2019-10-02    23.040001\n",
       "2019-10-03    23.520000\n",
       "2019-10-04    22.730000\n",
       "                ...    \n",
       "2019-12-24    17.690001\n",
       "2019-12-26    17.910000\n",
       "2019-12-27    18.020000\n",
       "2019-12-30    18.160000\n",
       "2019-12-31    17.950001\n",
       "Name: Adj Close, Length: 65, dtype: float64"
      ]
     },
     "execution_count": 14,
     "metadata": {},
     "output_type": "execute_result"
    }
   ],
   "source": [
    "# Get the Adj Close column\n",
    "Close = panel_data[\"Adj Close\"]\n",
    "Close"
   ]
  },
  {
   "cell_type": "code",
   "execution_count": 15,
   "metadata": {},
   "outputs": [],
   "source": [
    "# Extract start and end close price\n",
    "EndPx = panel_data.loc[max(panel_data.index),\"Adj Close\"]\n",
    "StartPx = panel_data.loc[min(panel_data.index),\"Adj Close\"]\n",
    "\n",
    "# Calculate return\n",
    "Ret = EndPx/StartPx - 1\n"
   ]
  },
  {
   "cell_type": "code",
   "execution_count": 16,
   "metadata": {},
   "outputs": [
    {
     "data": {
      "text/plain": [
       "-24.07"
      ]
     },
     "execution_count": 16,
     "metadata": {},
     "output_type": "execute_result"
    }
   ],
   "source": [
    "# Test rounding\n",
    "round(Ret*100,2)"
   ]
  },
  {
   "cell_type": "code",
   "execution_count": 6,
   "metadata": {},
   "outputs": [
    {
     "name": "stdout",
     "output_type": "stream",
     "text": [
      "Return of  ACWI  from  2019-04-01  to  2019-06-30  was  3.01 %.\n"
     ]
    }
   ],
   "source": [
    "# Print out results\n",
    "print(\"Return of \",ticker,\" from \",start_date,\" to \",end_date,\" was \",round(Ret*100,2),\"%.\")"
   ]
  },
  {
   "cell_type": "markdown",
   "metadata": {},
   "source": [
    "### Test function"
   ]
  },
  {
   "cell_type": "code",
   "execution_count": 42,
   "metadata": {},
   "outputs": [],
   "source": [
    "def RetCalc(ticker, start_date, end_date):\n",
    "    S_Px = data.DataReader(ticker,'yahoo',start_date, start_date)\n",
    "    E_Px = data.DataReader(ticker,'yahoo',end_date, end_date)\n",
    "    \n",
    "    StartPx = S_Px.head(1)[\"Adj Close\"].values[0]\n",
    "    EndPx = E_Px.tail(1)[\"Adj Close\"].values[0]\n",
    "    return round((EndPx/StartPx - 1)*100,2)"
   ]
  },
  {
   "cell_type": "code",
   "execution_count": 41,
   "metadata": {},
   "outputs": [
    {
     "data": {
      "text/plain": [
       "442.3299865722656"
      ]
     },
     "execution_count": 41,
     "metadata": {},
     "output_type": "execute_result"
    }
   ],
   "source": [
    "# data.DataReader(ticker,'yahoo',start_date, start_date)\n",
    "# data.DataReader(ticker,'yahoo',end_date, end_date).tail(1)[\"Adj Close\"].values[0]"
   ]
  },
  {
   "cell_type": "code",
   "execution_count": 27,
   "metadata": {},
   "outputs": [],
   "source": [
    "# Define the instruments to download. We use ACWI as an example\n",
    "ticker = 'CACC'\n",
    "start_date = '2019-09-30'\n",
    "end_date = '2019-12-31'"
   ]
  },
  {
   "cell_type": "code",
   "execution_count": 43,
   "metadata": {},
   "outputs": [
    {
     "data": {
      "text/plain": [
       "-4.11"
      ]
     },
     "execution_count": 43,
     "metadata": {},
     "output_type": "execute_result"
    }
   ],
   "source": [
    "RetCalc(ticker,start_date,end_date)"
   ]
  },
  {
   "cell_type": "code",
   "execution_count": null,
   "metadata": {},
   "outputs": [],
   "source": []
  }
 ],
 "metadata": {
  "hide_input": false,
  "kernelspec": {
   "display_name": "Python 3",
   "language": "python",
   "name": "python3"
  },
  "language_info": {
   "codemirror_mode": {
    "name": "ipython",
    "version": 3
   },
   "file_extension": ".py",
   "mimetype": "text/x-python",
   "name": "python",
   "nbconvert_exporter": "python",
   "pygments_lexer": "ipython3",
   "version": "3.6.10"
  }
 },
 "nbformat": 4,
 "nbformat_minor": 2
}
