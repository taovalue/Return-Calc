{
 "cells": [
  {
   "cell_type": "markdown",
   "metadata": {},
   "source": [
    "## Summary\n",
    "\n",
    "This project is to create a simple engine to calculate trailing return of a given financial instrument. It is inspired by below Morningstar tool (which is available free of charge to public, however was taken offline from its newly designed website)\n",
    "\n"
   ]
  },
  {
   "cell_type": "code",
   "execution_count": 16,
   "metadata": {},
   "outputs": [
    {
     "data": {
      "text/html": [
       "<img src=\"https://taovalue.files.wordpress.com/2019/08/morningstar-return-calc.png\"/>"
      ],
      "text/plain": [
       "<IPython.core.display.Image object>"
      ]
     },
     "execution_count": 16,
     "metadata": {},
     "output_type": "execute_result"
    }
   ],
   "source": [
    "from IPython.display import Image\n",
    "from IPython.core.display import HTML \n",
    "\n",
    "Image(url = \"https://taovalue.files.wordpress.com/2019/08/morningstar-return-calc.png\")"
   ]
  },
  {
   "cell_type": "markdown",
   "metadata": {},
   "source": [
    "\n",
    "The old website is still available from below URL: http://performance.morningstar.com/funds/etf/total-returns.action?t=ACWI\n",
    "\n",
    "### Inputs\n",
    "- Ticker (Security identifier)\n",
    "- As-of Date (As-of date for trailing return calculation)\n",
    "- Date Range (time horizon to go back\n",
    "- Frequency (day, month, quarter, year)\n",
    "\n",
    "### Outputs\n",
    "- \n"
   ]
  }
 ],
 "metadata": {
  "kernelspec": {
   "display_name": "Python 3",
   "language": "python",
   "name": "python3"
  },
  "language_info": {
   "codemirror_mode": {
    "name": "ipython",
    "version": 3
   },
   "file_extension": ".py",
   "mimetype": "text/x-python",
   "name": "python",
   "nbconvert_exporter": "python",
   "pygments_lexer": "ipython3",
   "version": "3.6.5"
  }
 },
 "nbformat": 4,
 "nbformat_minor": 2
}
