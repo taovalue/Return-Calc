{
 "cells": [
  {
   "cell_type": "markdown",
   "metadata": {},
   "source": [
    "## Summary\n",
    "\n",
    "This project is to create a simple engine to calculate trailing return of a given financial instrument. It is inspired by below Morningstar tool (which is available free of charge to public, however was taken offline from its newly designed website)\n",
    "\n"
   ]
  },
  {
   "cell_type": "code",
   "execution_count": 1,
   "metadata": {},
   "outputs": [
    {
     "data": {
      "text/html": [
       "<img src=\"https://github.com/taovalue/Return-Calc/blob/master/Morningstar-Return-Calc.png?raw=true\"/>"
      ],
      "text/plain": [
       "<IPython.core.display.Image object>"
      ]
     },
     "execution_count": 1,
     "metadata": {},
     "output_type": "execute_result"
    }
   ],
   "source": [
    "from IPython.display import Image\n",
    "from IPython.core.display import HTML \n",
    "\n",
    "# Image(url = \"https://taovalue.files.wordpress.com/2019/08/morningstar-return-calc.png\")\n",
    "Image(url = \"https://github.com/taovalue/Return-Calc/blob/master/Morningstar-Return-Calc.png?raw=true\")"
   ]
  },
  {
   "cell_type": "markdown",
   "metadata": {},
   "source": [
    "The old website is still available from below URL: http://performance.morningstar.com/funds/etf/total-returns.action?t=ACWI"
   ]
  },
  {
   "cell_type": "markdown",
   "metadata": {},
   "source": [
    "## Some structural thoughts\n",
    "\n",
    "### Data Source\n",
    "public daily pricing data (Yahoo Finance, Quandl, etc.), maybe there already are libraries does the data pull. Let's research that first.\n",
    "\n",
    "### Inputs\n",
    "- Ticker (Security identifier)\n",
    "- As-of Date (As-of date for trailing return calculation)\n",
    "- Date Range (time horizon to go back\n",
    "- Frequency (day, month, quarter, year)\n",
    "\n",
    "### Outputs\n",
    "- various return numbers (need to specify further)\n",
    "\n",
    "### GUI\n",
    "- using flask (url: https://www.fullstackpython.com/flask.html)?"
   ]
  },
  {
   "cell_type": "markdown",
   "metadata": {},
   "source": [
    "### Here is a quick example on using Yahoo API to get some prices and calculate a simple return"
   ]
  },
  {
   "cell_type": "code",
   "execution_count": 1,
   "metadata": {},
   "outputs": [],
   "source": [
    "from pandas_datareader import data\n",
    "import matplotlib.pyplot as plt\n",
    "import pandas as pd"
   ]
  },
  {
   "cell_type": "code",
   "execution_count": 8,
   "metadata": {},
   "outputs": [
    {
     "data": {
      "text/html": [
       "<div>\n",
       "<style scoped>\n",
       "    .dataframe tbody tr th:only-of-type {\n",
       "        vertical-align: middle;\n",
       "    }\n",
       "\n",
       "    .dataframe tbody tr th {\n",
       "        vertical-align: top;\n",
       "    }\n",
       "\n",
       "    .dataframe thead th {\n",
       "        text-align: right;\n",
       "    }\n",
       "</style>\n",
       "<table border=\"1\" class=\"dataframe\">\n",
       "  <thead>\n",
       "    <tr style=\"text-align: right;\">\n",
       "      <th></th>\n",
       "      <th>High</th>\n",
       "      <th>Low</th>\n",
       "      <th>Open</th>\n",
       "      <th>Close</th>\n",
       "      <th>Volume</th>\n",
       "      <th>Adj Close</th>\n",
       "    </tr>\n",
       "    <tr>\n",
       "      <th>Date</th>\n",
       "      <th></th>\n",
       "      <th></th>\n",
       "      <th></th>\n",
       "      <th></th>\n",
       "      <th></th>\n",
       "      <th></th>\n",
       "    </tr>\n",
       "  </thead>\n",
       "  <tbody>\n",
       "    <tr>\n",
       "      <th>2019-04-01</th>\n",
       "      <td>73.070000</td>\n",
       "      <td>72.680000</td>\n",
       "      <td>72.760002</td>\n",
       "      <td>73.029999</td>\n",
       "      <td>2565200.0</td>\n",
       "      <td>72.120888</td>\n",
       "    </tr>\n",
       "    <tr>\n",
       "      <th>2019-04-02</th>\n",
       "      <td>73.059998</td>\n",
       "      <td>72.769997</td>\n",
       "      <td>73.029999</td>\n",
       "      <td>73.000000</td>\n",
       "      <td>1889700.0</td>\n",
       "      <td>72.091263</td>\n",
       "    </tr>\n",
       "    <tr>\n",
       "      <th>2019-04-03</th>\n",
       "      <td>73.639999</td>\n",
       "      <td>73.180000</td>\n",
       "      <td>73.410004</td>\n",
       "      <td>73.339996</td>\n",
       "      <td>3175500.0</td>\n",
       "      <td>72.427025</td>\n",
       "    </tr>\n",
       "    <tr>\n",
       "      <th>2019-04-04</th>\n",
       "      <td>73.470001</td>\n",
       "      <td>73.199997</td>\n",
       "      <td>73.300003</td>\n",
       "      <td>73.449997</td>\n",
       "      <td>1991000.0</td>\n",
       "      <td>72.535652</td>\n",
       "    </tr>\n",
       "    <tr>\n",
       "      <th>2019-04-05</th>\n",
       "      <td>73.750000</td>\n",
       "      <td>73.489998</td>\n",
       "      <td>73.570000</td>\n",
       "      <td>73.730003</td>\n",
       "      <td>1064000.0</td>\n",
       "      <td>72.812180</td>\n",
       "    </tr>\n",
       "  </tbody>\n",
       "</table>\n",
       "</div>"
      ],
      "text/plain": [
       "                 High        Low       Open      Close     Volume  Adj Close\n",
       "Date                                                                        \n",
       "2019-04-01  73.070000  72.680000  72.760002  73.029999  2565200.0  72.120888\n",
       "2019-04-02  73.059998  72.769997  73.029999  73.000000  1889700.0  72.091263\n",
       "2019-04-03  73.639999  73.180000  73.410004  73.339996  3175500.0  72.427025\n",
       "2019-04-04  73.470001  73.199997  73.300003  73.449997  1991000.0  72.535652\n",
       "2019-04-05  73.750000  73.489998  73.570000  73.730003  1064000.0  72.812180"
      ]
     },
     "execution_count": 8,
     "metadata": {},
     "output_type": "execute_result"
    }
   ],
   "source": [
    "# Define the instruments to download. We use ACWI as an example\n",
    "ticker = 'ACWI'\n",
    "\n",
    "# We would like all available data from 4/1/2019 until 6/30/2019.\n",
    "start_date = '2019-04-01'\n",
    "end_date = '2019-06-30'\n",
    "\n",
    "# User pandas_reader.data.DataReader to load the desired data.\n",
    "panel_data = data.DataReader(ticker,'yahoo',start_date, end_date)\n",
    "\n",
    "# Check the first few rows\n",
    "panel_data.head()"
   ]
  },
  {
   "cell_type": "code",
   "execution_count": 9,
   "metadata": {},
   "outputs": [
    {
     "data": {
      "text/plain": [
       "Date\n",
       "2019-04-01    72.120888\n",
       "2019-04-02    72.091263\n",
       "2019-04-03    72.427025\n",
       "2019-04-04    72.535652\n",
       "2019-04-05    72.812180\n",
       "2019-04-08    72.901054\n",
       "2019-04-09    72.515907\n",
       "2019-04-10    72.822044\n",
       "2019-04-11    72.594917\n",
       "2019-04-12    73.108437\n",
       "2019-04-15    73.078812\n",
       "2019-04-16    73.157814\n",
       "2019-04-17    73.187447\n",
       "2019-04-18    73.207191\n",
       "2019-04-22    73.197319\n",
       "2019-04-23    73.592339\n",
       "2019-04-24    73.187447\n",
       "2019-04-25    73.167686\n",
       "2019-04-26    73.444206\n",
       "2019-04-29    73.621971\n",
       "2019-04-30    73.691093\n",
       "2019-05-01    73.187447\n",
       "2019-05-02    73.019562\n",
       "2019-05-03    73.789848\n",
       "2019-05-06    73.177567\n",
       "2019-05-07    71.933250\n",
       "2019-05-08    71.893753\n",
       "2019-05-09    71.528358\n",
       "2019-05-10    71.972748\n",
       "2019-05-13    70.165535\n",
       "                ...    \n",
       "2019-05-20    70.659317\n",
       "2019-05-21    71.301216\n",
       "2019-05-22    71.014832\n",
       "2019-05-23    70.214912\n",
       "2019-05-24    70.600052\n",
       "2019-05-28    69.997650\n",
       "2019-05-29    69.592758\n",
       "2019-05-30    69.898895\n",
       "2019-05-31    69.217484\n",
       "2019-06-03    69.345871\n",
       "2019-06-04    70.471680\n",
       "2019-06-05    70.718567\n",
       "2019-06-06    71.093834\n",
       "2019-06-07    71.844376\n",
       "2019-06-10    72.150513\n",
       "2019-06-11    72.357895\n",
       "2019-06-12    71.943123\n",
       "2019-06-13    72.190018\n",
       "2019-06-14    71.874001\n",
       "2019-06-17    71.940002\n",
       "2019-06-18    72.870003\n",
       "2019-06-19    73.110001\n",
       "2019-06-20    73.940002\n",
       "2019-06-21    73.739998\n",
       "2019-06-24    73.660004\n",
       "2019-06-25    73.070000\n",
       "2019-06-26    73.120003\n",
       "2019-06-27    73.400002\n",
       "2019-06-28    73.709999\n",
       "2019-07-01    74.290001\n",
       "Name: Adj Close, Length: 64, dtype: float64"
      ]
     },
     "execution_count": 9,
     "metadata": {},
     "output_type": "execute_result"
    }
   ],
   "source": [
    "# Get the Adj Close column\n",
    "Close = panel_data[\"Adj Close\"]\n",
    "Close"
   ]
  },
  {
   "cell_type": "code",
   "execution_count": 4,
   "metadata": {},
   "outputs": [],
   "source": [
    "# Extract start and end close price\n",
    "EndPx = panel_data.loc[max(panel_data.index),\"Adj Close\"]\n",
    "StartPx = panel_data.loc[min(panel_data.index),\"Adj Close\"]\n",
    "\n",
    "# Calculate return\n",
    "Ret = EndPx/StartPx - 1\n"
   ]
  },
  {
   "cell_type": "code",
   "execution_count": 5,
   "metadata": {},
   "outputs": [
    {
     "data": {
      "text/plain": [
       "3.01"
      ]
     },
     "execution_count": 5,
     "metadata": {},
     "output_type": "execute_result"
    }
   ],
   "source": [
    "# Test rounding\n",
    "round(Ret*100,2)"
   ]
  },
  {
   "cell_type": "code",
   "execution_count": 6,
   "metadata": {},
   "outputs": [
    {
     "name": "stdout",
     "output_type": "stream",
     "text": [
      "Return of  ACWI  from  2019-04-01  to  2019-06-30  was  3.01 %.\n"
     ]
    }
   ],
   "source": [
    "# Print out results\n",
    "print(\"Return of \",ticker,\" from \",start_date,\" to \",end_date,\" was \",round(Ret*100,2),\"%.\")"
   ]
  },
  {
   "cell_type": "code",
   "execution_count": null,
   "metadata": {},
   "outputs": [],
   "source": []
  }
 ],
 "metadata": {
  "hide_input": false,
  "kernelspec": {
   "display_name": "Python 3",
   "language": "python",
   "name": "python3"
  },
  "language_info": {
   "codemirror_mode": {
    "name": "ipython",
    "version": 3
   },
   "file_extension": ".py",
   "mimetype": "text/x-python",
   "name": "python",
   "nbconvert_exporter": "python",
   "pygments_lexer": "ipython3",
   "version": "3.6.5"
  }
 },
 "nbformat": 4,
 "nbformat_minor": 2
}
